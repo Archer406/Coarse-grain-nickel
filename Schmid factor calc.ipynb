{
 "metadata": {
  "name": "",
  "signature": "sha256:a360c7322a3dd649398df1e785a59105b223b68c4a21b8adc391c5e4adbf8a17"
 },
 "nbformat": 3,
 "nbformat_minor": 0,
 "worksheets": [
  {
   "cells": [
    {
     "cell_type": "code",
     "collapsed": false,
     "input": [
      "%matplotlib inline"
     ],
     "language": "python",
     "metadata": {
      "slideshow": {
       "slide_type": "slide"
      }
     },
     "outputs": [],
     "prompt_number": 1
    },
    {
     "cell_type": "heading",
     "level": 3,
     "metadata": {
      "slideshow": {
       "slide_type": "subslide"
      }
     },
     "source": [
      "The orientation matrix"
     ]
    },
    {
     "cell_type": "markdown",
     "metadata": {
      "slideshow": {
       "slide_type": "slide"
      }
     },
     "source": [
      "The orientation matrix is given by the following:\n",
      "\n",
      "$\\left( \\begin{array}{ccc}\n",
      "cos\\phi_1 cos\\phi_2 - sin\\phi_1 sin\\phi_2 cos\\Phi & sin\\phi_1 cos\\phi_2 - cos\\phi_1 sin\\phi_2 cos\\Phi & sin\\phi_2 sin\\Phi \\\\\n",
      "-cos\\phi_1 sin\\phi_2 -sin\\phi_1 cos\\phi_2 cos\\Phi & -sin\\phi_1 sin\\phi_2 + cos\\phi_1 cos\\phi_2 cos\\Phi & cos\\phi_2sin\\Phi \\\\\n",
      "sin\\phi_1 sin\\Phi & -cos\\phi_1 sin\\Phi & cos\\Phi \\end{array} \\right)$\n",
      "\n",
      "or:\n",
      "\n",
      "$\\left( \\begin{array}{ccc}\n",
      "c1c2 - s1s2C & s1c2 - c1s2C & s2 S \\\\\n",
      "-c1 s2 -s1 c2 C & -s1 s2 + c1 c2 C & c2 S \\\\\n",
      "s1 S & -c1 S & C \\end{array} \\right)$\n",
      "\n",
      "    "
     ]
    },
    {
     "cell_type": "code",
     "collapsed": false,
     "input": [
      "def G_matrix (euler_angles):\n",
      "    ''' Calculate orientation matrix from array of euler angles [phi1,Phi,phi_2]'''\n",
      "    p1=euler_angles[0]*pi/180\n",
      "    P=euler_angles[1]*pi/180\n",
      "    p2=euler_angles[2]*pi/180\n",
      "    \n",
      "    c1=cos(p1); c2=cos(p2); C=cos(P); \n",
      "    s1=sin(p1); s2=sin(p2); S=sin(P);\n",
      "    G_matrix=matrix([[(c1*c2-s1*s2*C),(s1*c2-c1*s2*C), s2*S],[(-c1*s2 -s1*c2*C), (-s1*s2 + c1*c2*C) ,c2*S],[s1*S, -c1*S,C]])\n",
      "    return G_matrix"
     ],
     "language": "python",
     "metadata": {},
     "outputs": [],
     "prompt_number": 2
    },
    {
     "cell_type": "code",
     "collapsed": true,
     "input": [
      "a=G_matrix([90,5,65])\n",
      "print a"
     ],
     "language": "python",
     "metadata": {},
     "outputs": [
      {
       "output_type": "stream",
       "stream": "stdout",
       "text": [
        "[[ -9.02859012e-01   4.22618262e-01   7.89899283e-02]\n",
        " [ -4.21010072e-01  -9.06307787e-01   3.68336085e-02]\n",
        " [  8.71557427e-02  -5.33675007e-18   9.96194698e-01]]\n"
       ]
      }
     ],
     "prompt_number": 3
    },
    {
     "cell_type": "code",
     "collapsed": false,
     "input": [
      "b=inv(a)\n",
      "print b"
     ],
     "language": "python",
     "metadata": {},
     "outputs": [
      {
       "output_type": "stream",
       "stream": "stdout",
       "text": [
        "[[ -9.02859012e-01  -4.21010072e-01   8.71557427e-02]\n",
        " [  4.22618262e-01  -9.06307787e-01  -6.26484290e-18]\n",
        " [  7.89899283e-02   3.68336085e-02   9.96194698e-01]]\n"
       ]
      }
     ],
     "prompt_number": 4
    },
    {
     "cell_type": "markdown",
     "metadata": {},
     "source": [
      "The first column gives the crystal direction along x, the second along y and the last along z. For a loading direction along X, the vector is given by column 1. So we have X along x, Y along y and Z along z:\n",
      "\n",
      "For our IPF (see below) plot we need $\\alpha$ and $\\beta$.\n",
      "\n",
      "$\\alpha= atan(\\frac{X_2}{X_1})=atan(\\frac{-cos\\phi_1 sin\\phi_2 -sin\\phi_1 cos\\phi_2 cos\\Phi}{cos\\phi_1 cos\\phi_2 - sin\\phi_1 sin\\phi_2cos\\Phi})$\n",
      "\n",
      "$\\beta=atan(\\frac{X_3}{X_2})=atan(\\frac{sin\\phi_1 sin\\Phi}{-cos\\phi_1 sin\\phi_2 -sin\\phi_1 cos\\phi_2 cos\\Phi})$\n",
      "\n",
      "So if $\\phi_1=\\frac{\\pi}{2}$ then:\n",
      "\n",
      "$\\alpha=atan(\\frac{1}{\\tan\\phi2})$  and\n",
      "\n",
      "$\\beta=atan(-\\frac{tan\\Phi }{cos\\phi_2 })$"
     ]
    },
    {
     "cell_type": "markdown",
     "metadata": {},
     "source": [
      "So $\\phi_2=arctan(\\frac{1}{tan(\\alpha)})=\\frac{\\pi}{2}-\\alpha$"
     ]
    },
    {
     "cell_type": "markdown",
     "metadata": {},
     "source": [
      "and $\\Phi=-atan(cos\\phi_2 tan \\beta)$"
     ]
    },
    {
     "cell_type": "markdown",
     "metadata": {},
     "source": [
      "$\\alpha$ and $\\beta$ range from 0 to 45$^\\circ$,  so we can create the arrays:"
     ]
    },
    {
     "cell_type": "code",
     "collapsed": false,
     "input": [
      "#define number of items in arrays\n",
      "n=100\n",
      "alpha=linspace(1e-6,pi/4,num=100)\n",
      "beta=linspace(1e-6,pi/4,num=100)\n",
      "phi_2=pi/2-alpha\n",
      "Phi=arctan(cos(phi_2)*tan(beta))"
     ],
     "language": "python",
     "metadata": {},
     "outputs": [],
     "prompt_number": 5
    },
    {
     "cell_type": "code",
     "collapsed": false,
     "input": [
      "print alpha[0]*180/pi,alpha[-1]*180/pi"
     ],
     "language": "python",
     "metadata": {},
     "outputs": [
      {
       "output_type": "stream",
       "stream": "stdout",
       "text": [
        "5.72957795131e-05 45.0\n"
       ]
      }
     ],
     "prompt_number": 6
    },
    {
     "cell_type": "code",
     "collapsed": false,
     "input": [
      "print beta[0]*180/pi,beta[-1]*180/pi"
     ],
     "language": "python",
     "metadata": {},
     "outputs": [
      {
       "output_type": "stream",
       "stream": "stdout",
       "text": [
        "5.72957795131e-05 45.0\n"
       ]
      }
     ],
     "prompt_number": 7
    },
    {
     "cell_type": "code",
     "collapsed": false,
     "input": [
      "print phi_2[0]*180/pi,phi_2[-1]*180/pi"
     ],
     "language": "python",
     "metadata": {},
     "outputs": [
      {
       "output_type": "stream",
       "stream": "stdout",
       "text": [
        "89.9999427042 45.0\n"
       ]
      }
     ],
     "prompt_number": 8
    },
    {
     "cell_type": "code",
     "collapsed": false,
     "input": [
      "print Phi[0]*180/pi,Phi[-1]*180/pi"
     ],
     "language": "python",
     "metadata": {},
     "outputs": [
      {
       "output_type": "stream",
       "stream": "stdout",
       "text": [
        "5.72957795119e-11 35.2643896828\n"
       ]
      }
     ],
     "prompt_number": 9
    },
    {
     "cell_type": "heading",
     "level": 3,
     "metadata": {},
     "source": [
      "IPF frame"
     ]
    },
    {
     "cell_type": "markdown",
     "metadata": {},
     "source": [
      "Here we create a function to draw the borders of an inverse pole figure."
     ]
    },
    {
     "cell_type": "code",
     "collapsed": false,
     "input": [
      "def IPF_axis_cubic(n):\n",
      "    #Create arrays of alpha and beta\n",
      "    \n",
      "    alpha=linspace(1e-6,pi/4,num=n)\n",
      "    beta=linspace(1e-6,pi/4,num=n)\n",
      "\n",
      "    #make axis for IPF\n",
      "    #100 to 110\n",
      "    a_x=alpha*180/pi\n",
      "    a_y=ones(n)\n",
      "    #110 to 111\n",
      "    b_x=alpha[-1]*180/pi*cos(beta)\n",
      "    b_y=alpha[-1]*180/pi*sin(beta)+1\n",
      "    #100 to 111\n",
      "    c_x=alpha*180/pi*cos(beta[-1])\n",
      "    c_y=c_x*tan(beta[-1])+1\n",
      "    #plot\n",
      "    plot(c_x,c_y,'k',lw=3)\n",
      "    plot(a_x,a_y,'k',lw=3)\n",
      "    plot(b_x,b_y,'k',lw=3)\n",
      "    #make look good\n",
      "    axis('equal')\n",
      "    axis('off')\n",
      "    #add labels\n",
      "    text(0,0,'100',va='top',ha='right')\n",
      "    text(a_x.max(),0,'110',va='top',ha='left')\n",
      "    text(b_x[-1],b_y[-1],'111',va='bottom',ha='left')\n",
      "    return a_x,c_y "
     ],
     "language": "python",
     "metadata": {},
     "outputs": [],
     "prompt_number": 10
    },
    {
     "cell_type": "markdown",
     "metadata": {},
     "source": [
      "Testing the IPF funtion:"
     ]
    },
    {
     "cell_type": "code",
     "collapsed": false,
     "input": [
      "a,b=IPF_axis_cubic(n)"
     ],
     "language": "python",
     "metadata": {},
     "outputs": [
      {
       "metadata": {},
       "output_type": "display_data",
       "png": "[encoded data removed]",
       "text": [
        "<matplotlib.figure.Figure at 0xb7a6ba8>"
       ]
      }
     ],
     "prompt_number": 11
    },
    {
     "cell_type": "markdown",
     "metadata": {},
     "source": [
      "Next we create a fundtion to plot a pole on the IPF:"
     ]
    },
    {
     "cell_type": "code",
     "collapsed": false,
     "input": [
      "def plot_pole_G(angles):\n",
      "    '''Plots point on X inverse pole figure from euler angles given by the array [phi1,Phi,phi2]'''\n",
      "    #calculate rotation matrix\n",
      "    a=G_matrix(angles);\n",
      "    \n",
      "    #get direction cosines for sample X axis: X=[x1,x2,x3]\n",
      "    x1=abs(a[0,0])+1e-6; \n",
      "    x2=abs(a[1,0])+1e-6;\n",
      "    x3=abs(a[2,0])+1e-6;\n",
      "   \n",
      "    #plot IPF axis\n",
      "    IPF_axis_cubic(10)\n",
      "    \n",
      "    #plot point\n",
      "    alpha_1=arctan(x2/x1)\n",
      "    beta_1=arctan(x3/x2)\n",
      "    p_x=alpha_1*180/pi*cos(beta_1)\n",
      "    p_y=alpha_1*180/pi*sin(beta_1)+1\n",
      "    plot(p_x,p_y,'r+')\n",
      "    label='['+ str(angles[0]) +', ' + str(angles[1]) + ', '+str(angles[2]) + ']'\n",
      "    text(p_x+1,p_y,label)"
     ],
     "language": "python",
     "metadata": {},
     "outputs": [],
     "prompt_number": 12
    },
    {
     "cell_type": "markdown",
     "metadata": {},
     "source": [
      "Testing the \"Plot pole\" function:"
     ]
    },
    {
     "cell_type": "code",
     "collapsed": false,
     "input": [
      "plot_pole_G([90,5,65])"
     ],
     "language": "python",
     "metadata": {},
     "outputs": [
      {
       "metadata": {},
       "output_type": "display_data",
       "png": "[encoded data removed]",
       "text": [
        "<matplotlib.figure.Figure at 0x114ab320>"
       ]
      }
     ],
     "prompt_number": 66
    },
    {
     "cell_type": "markdown",
     "metadata": {},
     "source": [
      "Next we create a funtion to plot interpolated data on the IPF:"
     ]
    },
    {
     "cell_type": "code",
     "collapsed": false,
     "input": [
      "def IPF_plot(alpha,beta,data,n):\n",
      "    \n",
      "    #plot IPF axis\n",
      "    xi,yi=IPF_axis_cubic(n)\n",
      "    \n",
      "    '''creating a series of x and y points'''\n",
      "    p_x_list=[]\n",
      "    p_y_list=[]\n",
      "    z_list=[]\n",
      "    for alpha_1 in alpha:\n",
      "        for beta_1,z in zip(beta,data):\n",
      "            p_x=alpha_1*cos(beta_1)*180/pi\n",
      "            p_y=p_x*tan(beta_1)+1\n",
      "            z_list.append(z)\n",
      "            p_x_list.append(p_x)\n",
      "            p_y_list.append(p_y)\n",
      "                \n",
      "    # grid the data.\n",
      "    zi = griddata(p_x_list, p_y_list, z_list, xi, yi)\n",
      "    savetxt('gridlist.csv',c_[array(p_x_list),array(p_y_list)],delimiter=',')\n",
      "    pcolormesh(xi,yi,zi)\n",
      "    colorbar() # draw colorbar   "
     ],
     "language": "python",
     "metadata": {},
     "outputs": [],
     "prompt_number": 14
    },
    {
     "cell_type": "markdown",
     "metadata": {},
     "source": [
      "We can now use this function to plot $\\Phi$ and $\\phi_2$:"
     ]
    },
    {
     "cell_type": "code",
     "collapsed": false,
     "input": [
      "IPF_plot(alpha,beta,Phi*180/pi,300)\n",
      "title('$\\Phi$')"
     ],
     "language": "python",
     "metadata": {},
     "outputs": [
      {
       "metadata": {},
       "output_type": "pyout",
       "prompt_number": 15,
       "text": [
        "<matplotlib.text.Text at 0xb92f048>"
       ]
      },
      {
       "metadata": {},
       "output_type": "display_data",
       "png": "[encoded data removed]",
       "text": [
        "<matplotlib.figure.Figure at 0xb922160>"
       ]
      }
     ],
     "prompt_number": 15
    },
    {
     "cell_type": "code",
     "collapsed": false,
     "input": [
      "IPF_plot(alpha,beta,phi_2*180/pi,200)\n",
      "title('$\\phi_2$')"
     ],
     "language": "python",
     "metadata": {},
     "outputs": [
      {
       "metadata": {},
       "output_type": "pyout",
       "prompt_number": 16,
       "text": [
        "<matplotlib.text.Text at 0xbd89ba8>"
       ]
      },
      {
       "metadata": {},
       "output_type": "display_data",
       "png": "[encoded data removed]",
       "text": [
        "<matplotlib.figure.Figure at 0xbd72a90>"
       ]
      }
     ],
     "prompt_number": 16
    },
    {
     "cell_type": "heading",
     "level": 3,
     "metadata": {},
     "source": [
      "Calclulating the Schmid factors in the x direction using the transformation matrix"
     ]
    },
    {
     "cell_type": "markdown",
     "metadata": {},
     "source": [
      "Orientation Matrix Defines the Sample co-ordinate system\n",
      "$\\left( \\begin{array}{ccc}\n",
      "cos\\phi_1 cos\\phi_2 - sin\\phi_1 sin\\phi_2 cos\\Phi & sin\\phi_1 cos\\phi_2 - cos\\phi_1 sin\\phi_2 cos\\Phi & sin\\phi_2 sin\\Phi \\\\\n",
      "-cos\\phi_1 sin\\phi_2 -sin\\phi_1 cos\\phi_2 cos\\Phi & -sin\\phi_1 sin\\phi_2 + cos\\phi_1 cos\\phi_2 cos\\Phi & cos\\phi_2sin\\Phi \\\\\n",
      "sin\\phi_1 sin\\Phi & -cos\\phi_1 sin\\Phi & cos\\Phi \\end{array} \\right)$\n",
      "\n",
      "To calculate the Crystal co-ordinate system we take the inverse of the orientation matrix and multiply it with the loading direction which is the x direction\n",
      "\n",
      "Crystal co-ordinate system=inverse(G_matrix)*[1 0 0]\n",
      "\n",
      "<span style=\"color:red\">This is not right where did you get it from? Please give the reference. Jo\u00e3o </span> \n",
      "\n"
     ]
    },
    {
     "cell_type": "markdown",
     "metadata": {},
     "source": [
      "For example:\n",
      "    For $\\phi_1$=90,$\\Phi$=35.4 and $\\phi_2$=45"
     ]
    },
    {
     "cell_type": "code",
     "collapsed": false,
     "input": [
      "sample_coordinate_system=G_matrix([90,35.4,45])\n",
      "print sample_coordinate_system"
     ],
     "language": "python",
     "metadata": {},
     "outputs": [
      {
       "output_type": "stream",
       "stream": "stdout",
       "text": [
        "[[ -5.76382392e-01   7.07106781e-01   4.09613645e-01]\n",
        " [ -5.76382392e-01  -7.07106781e-01   4.09613645e-01]\n",
        " [  5.79281172e-01  -3.54707417e-17   8.15127796e-01]]\n"
       ]
      }
     ],
     "prompt_number": 28
    },
    {
     "cell_type": "code",
     "collapsed": false,
     "input": [
      "crystal_coordinate_system=inv(sample_coordinate_system)[:,0]\n",
      "print crystal_coordinate_system"
     ],
     "language": "python",
     "metadata": {},
     "outputs": [
      {
       "output_type": "stream",
       "stream": "stdout",
       "text": [
        "[[-0.57638239]\n",
        " [ 0.70710678]\n",
        " [ 0.40961365]]\n"
       ]
      }
     ],
     "prompt_number": 39
    },
    {
     "cell_type": "markdown",
     "metadata": {},
     "source": [
      "Schmid Factor Calculations are hence"
     ]
    },
    {
     "cell_type": "markdown",
     "metadata": {},
     "source": [
      "cos$\\theta$=loading_direction*slip_plane_normal\n",
      "\n",
      "cos$\\lambda$=loading_direction*slip_direction"
     ]
    },
    {
     "cell_type": "code",
     "collapsed": false,
     "input": [
      "ccs=crystal_coordinate_system\n",
      "sqrt3=3**0.5\n",
      "sqrt2=2**0.5\n",
      "x1=ccs[0,0]+1e-6; \n",
      "x2=ccs[1,0]+1e-6;\n",
      "x3=ccs[2,0]+1e-6;\n",
      "den=(x1**2+x2**2+x3**2)**0.5\n",
      "costheta=dot([x1/den,x2/den,x3/den],[1/sqrt3,1/sqrt3,1/sqrt3])\n",
      "coslambda=dot([x1/den,x2/den,x3/den],[0/sqrt2,1/sqrt2,1/sqrt2])\n",
      "Schmid_factor=costheta*coslambda\n",
      "print 'Schmid factor = '+str(costheta)+'*'+str(coslambda)+'='+str(Schmid_factor)"
     ],
     "language": "python",
     "metadata": {},
     "outputs": [
      {
       "output_type": "stream",
       "stream": "stdout",
       "text": [
        "Schmid factor = 0.311965873138*0.78964157371=0.246341223009\n"
       ]
      }
     ],
     "prompt_number": 51
    },
    {
     "cell_type": "heading",
     "level": 5,
     "metadata": {},
     "source": [
      " For $\\phi_1$=90,$\\Phi$=5 and $\\phi_2$=65"
     ]
    },
    {
     "cell_type": "code",
     "collapsed": false,
     "input": [
      "sample_coordinate_system=G_matrix([90,5,65])\n",
      "print sample_coordinate_system"
     ],
     "language": "python",
     "metadata": {},
     "outputs": [
      {
       "output_type": "stream",
       "stream": "stdout",
       "text": [
        "[[ -9.02859012e-01   4.22618262e-01   7.89899283e-02]\n",
        " [ -4.21010072e-01  -9.06307787e-01   3.68336085e-02]\n",
        " [  8.71557427e-02  -5.33675007e-18   9.96194698e-01]]\n"
       ]
      }
     ],
     "prompt_number": 67
    },
    {
     "cell_type": "code",
     "collapsed": false,
     "input": [
      "crystal_coordinate_system=inv(sample_coordinate_system)[:,0]\n",
      "print crystal_coordinate_system"
     ],
     "language": "python",
     "metadata": {},
     "outputs": [
      {
       "output_type": "stream",
       "stream": "stdout",
       "text": [
        "[[-0.90285901]\n",
        " [ 0.42261826]\n",
        " [ 0.07898993]]\n"
       ]
      }
     ],
     "prompt_number": 68
    },
    {
     "cell_type": "code",
     "collapsed": false,
     "input": [
      "ccs=crystal_coordinate_system\n",
      "sqrt3=3**0.5\n",
      "sqrt2=2**0.5\n",
      "x1=ccs[0,0]+1e-6; \n",
      "x2=ccs[1,0]+1e-6;\n",
      "x3=ccs[2,0]+1e-6;\n",
      "den=(x1**2+x2**2+x3**2)**0.5\n",
      "costheta=dot([x1/den,x2/den,x3/den],[1/sqrt3,1/sqrt3,1/sqrt3])\n",
      "coslambda=dot([x1/den,x2/den,x3/den],[0/sqrt2,1/sqrt2,1/sqrt2])\n",
      "Schmid_factor=costheta*coslambda\n",
      "print 'Schmid factor = '+str(costheta)+'*'+str(coslambda)+'='+str(abs(Schmid_factor))\n",
      "\n",
      "print 'This is not correct as the value here should be around 0.5'"
     ],
     "language": "python",
     "metadata": {},
     "outputs": [
      {
       "output_type": "stream",
       "stream": "stdout",
       "text": [
        "Schmid factor = -0.231660631117*0.354692109236=0.0821681978778\n",
        "This is not correct as the value here should be around 0.5\n"
       ]
      }
     ],
     "prompt_number": 69
    }
   ],
   "metadata": {}
  }
 ]
}