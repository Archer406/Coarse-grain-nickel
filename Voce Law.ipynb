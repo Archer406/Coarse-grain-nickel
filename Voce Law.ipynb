{
 "metadata": {
  "name": "",
  "signature": "sha256:e9ac0af17b06bdd55f24209a217e8b7417ef5094fe4b9fc4c821a139cac07687"
 },
 "nbformat": 3,
 "nbformat_minor": 0,
 "worksheets": [
  {
   "cells": [
    {
     "cell_type": "heading",
     "level": 1,
     "metadata": {},
     "source": [
      "Using Voce Law to obtain the fmt data for RS5 alloy"
     ]
    },
    {
     "cell_type": "heading",
     "level": 3,
     "metadata": {},
     "source": [
      "Importing required modules"
     ]
    },
    {
     "cell_type": "code",
     "collapsed": false,
     "input": [
      "%pylab inline\n",
      "import os\n",
      "import matplotlib.pyplot as plt\n",
      "from glob import glob\n",
      "from scipy.interpolate import interp1d"
     ],
     "language": "python",
     "metadata": {},
     "outputs": [
      {
       "output_type": "stream",
       "stream": "stdout",
       "text": [
        "Populating the interactive namespace from numpy and matplotlib\n"
       ]
      }
     ],
     "prompt_number": 18
    },
    {
     "cell_type": "heading",
     "level": 3,
     "metadata": {},
     "source": [
      "Collecting Strain data from DIC"
     ]
    },
    {
     "cell_type": "code",
     "collapsed": false,
     "input": [
      "def read_strain(x):\n",
      "    maindir=os.getcwd()\n",
      "    strain_file_loc=maindir+'/Data/'\n",
      "    stress_file_loc=maindir+'/Data/Tensile/'\n",
      "    for file_no in  [x]:\n",
      "        strain_file_name=strain_file_loc+'Tensile_'+str(file_no)+'_ASCII_Vec/*.txt'\n",
      "        files=glob (strain_file_name);\n",
      "        mean_strain_list=[]\n",
      "        n_list=[]\n",
      "        n1_list=[]\n",
      "        strain_list=[]\n",
      "        strain_diff_list=[]\n",
      "        stress_diff_list=[]\n",
      "        mid_list=[]\n",
      "        #for each vector file the average macor strain across the sample is calculated. This is for samples where\n",
      "        #where the interrogation window size is 128\n",
      "        for file in files:\n",
      "            Vy_list=loadtxt(file)[:,3]#loading the data\n",
      "            plot_data=[]\n",
      "            n_list=[]\n",
      "            n1_list=[]\n",
      "            for n,n1 in enumerate(Vy_list):#calculating eyy strain\n",
      "                n_list.append(n)\n",
      "                n1_list.append(n1)\n",
      "            for pos,vec in zip(n_list,n1_list):\n",
      "                if abs(vec)>0.001:        \n",
      "                    strain=abs(((Vy_list[pos+22]-vec))/1.466)\n",
      "                    if strain<0.1:\n",
      "                        plot_data.append(strain)\n",
      "            strain_val=(average(plot_data[30:-10]))\n",
      "            mean_strain_list.append(strain_val)\n",
      "        return mean_strain_list"
     ],
     "language": "python",
     "metadata": {},
     "outputs": [],
     "prompt_number": 19
    },
    {
     "cell_type": "heading",
     "level": 3,
     "metadata": {},
     "source": [
      "Collecting Stress Data from Tensile Rig"
     ]
    },
    {
     "cell_type": "code",
     "collapsed": false,
     "input": [
      "def read_stress(x):\n",
      "    maindir=os.getcwd()\n",
      "    stress_file_loc=maindir+'/Data/Tensile/'\n",
      "    for file_no in  [x]:#loading data from file\n",
      "        stress_file_name=stress_file_loc+'T'+str(file_no)+'.txt'\n",
      "    \n",
      "    stress_data=loadtxt(stress_file_name,skiprows=7,delimiter=',')[:,3]\n",
      "    corrected_data=stress_data+(0-stress_data[-1])#making correction as force is not zero in the beginning\n",
      "    time_data=loadtxt(stress_file_name,skiprows=7,delimiter=',')[:,1]#time data from the same stress file\n",
      "    return zip(corrected_data,time_data)\n"
     ],
     "language": "python",
     "metadata": {},
     "outputs": [],
     "prompt_number": 20
    },
    {
     "cell_type": "heading",
     "level": 3,
     "metadata": {},
     "source": [
      "Collecting Time data from DIC data"
     ]
    },
    {
     "cell_type": "code",
     "collapsed": false,
     "input": [
      "def strain_time(x):\n",
      "    maindir=os.getcwd()\n",
      "    strain_file_loc=maindir+'/Data/'\n",
      "    for file_no in [x]:\n",
      "        time_file_name=strain_file_loc+'Tensile_'+str(file_no)+'_ASCII_Time/B00001.txt'\n",
      "        time_data=loadtxt(time_file_name[:])\n",
      "        time_flatten=time_data.flatten()\n",
      "        time=time_flatten[(len(time_flatten)/2):len(time_flatten)]-time_flatten[len(time_flatten)/2]\n",
      "        time_file=strain_file_loc+'Tensile_'+str(file_no)+'_ASCII_Time/Time'+str(file_no)+'.txt'\n",
      "        f=open(time_file,'w')\n",
      "        f.write(time)\n",
      "        f.close()\n",
      "        corrected_time=time\n",
      "    return corrected_time"
     ],
     "language": "python",
     "metadata": {},
     "outputs": [],
     "prompt_number": 21
    },
    {
     "cell_type": "heading",
     "level": 3,
     "metadata": {},
     "source": [
      "Interpolating strain data with time data from DIC"
     ]
    },
    {
     "cell_type": "code",
     "collapsed": false,
     "input": [
      "def interpolate(tensile_no):\n",
      "    time=strain_time(tensile_no)\n",
      "    mean_strain_list=read_strain(tensile_no)\n",
      "    zi=interp1d(time[2:],mean_strain_list[2:])\n",
      "    #this is done because generally the tensile rig data is 2 seconds behind the DIC data\n",
      "    return zi"
     ],
     "language": "python",
     "metadata": {},
     "outputs": [],
     "prompt_number": 22
    },
    {
     "cell_type": "heading",
     "level": 3,
     "metadata": {},
     "source": [
      "Interpolating the strain values with time data from tensile rig and calculating true stress and true strain"
     ]
    },
    {
     "cell_type": "code",
     "collapsed": false,
     "input": [
      "def true_stress_strain(tensile_no):\n",
      "    stress_time_data=read_stress(tensile_no)\n",
      "    stress_list=[]\n",
      "    time_data=[]\n",
      "    zi=interpolate(tensile_no)\n",
      "\n",
      "    for stress,time in stress_time_data:\n",
      "        stress_list.append(stress)\n",
      "        time_data.append(time)\n",
      "\n",
      "    yi=zi(time_data[:-10])\n",
      "    true_stress=[]\n",
      "\n",
      "    for true_s,true_e in zip(stress_list[:len(yi)],yi):\n",
      "        true_s=true_s*(1+true_e)\n",
      "        true_stress.append(true_s)\n",
      "    return zip(yi,true_stress)\n"
     ],
     "language": "python",
     "metadata": {},
     "outputs": [],
     "prompt_number": 23
    },
    {
     "cell_type": "heading",
     "level": 3,
     "metadata": {},
     "source": [
      "Plotting True stress/strain graph"
     ]
    },
    {
     "cell_type": "code",
     "collapsed": false,
     "input": [
      "def plot_graph(tensile_no):\n",
      "    plot_values=true_stress_strain(tensile_no)\n",
      "    true_strain=[]\n",
      "    true_stress=[]\n",
      "    for eyy,syy in plot_values:\n",
      "        true_strain.append(eyy),true_stress.append(syy)        \n",
      "    ax.plot(true_strain,true_stress,'-b',label = 'Tensile '+str(tensile_no))\n",
      "    ax.grid()\n",
      "    ax.set_xlabel(\"True Strain\")\n",
      "    ax.set_ylabel(\"True Stress(MPa)\")\n",
      "    ax.hold(True)\n"
     ],
     "language": "python",
     "metadata": {},
     "outputs": [],
     "prompt_number": 24
    },
    {
     "cell_type": "code",
     "collapsed": false,
     "input": [
      "fig = plt.figure()\n",
      "ax = fig.add_subplot(111)\n",
      "for tensile_no in [4,7,8,10,11]:\n",
      "    interpolate(tensile_no),true_stress_strain(tensile_no),plot_graph(tensile_no)\n",
      "plt.show()"
     ],
     "language": "python",
     "metadata": {},
     "outputs": [
      {
       "metadata": {},
       "output_type": "display_data",
       "png": "[encoded data removed]",
       "text": [
        "<matplotlib.figure.Figure at 0x10bd03f90>"
       ]
      }
     ],
     "prompt_number": 35
    },
    {
     "cell_type": "heading",
     "level": 3,
     "metadata": {},
     "source": [
      "Converting Stress values and strain values to Shear stress and shear strain"
     ]
    },
    {
     "cell_type": "code",
     "collapsed": false,
     "input": [
      "def shear_data(tensile_no,x):\n",
      "    tensile_values=true_stress_strain(tensile_no)\n",
      "    true_strain=[]\n",
      "    true_stress=[]\n",
      "    for eyy,syy in tensile_values:\n",
      "        true_strain.append(eyy),true_stress.append(syy)  \n",
      "    shear_stress=[]\n",
      "    shear_strain=[]\n",
      "    taylor_factor=2.5\n",
      "    E=200000\n",
      "    for syy,eyy in zip(true_stress,true_strain):\n",
      "        shear_strain.append((eyy-(syy/E))*taylor_factor)\n",
      "        shear_stress.append(syy/taylor_factor)\n",
      "    return zip(shear_strain[int(x):-5],shear_stress[int(x):-5])"
     ],
     "language": "python",
     "metadata": {},
     "outputs": [],
     "prompt_number": 26
    },
    {
     "cell_type": "heading",
     "level": 3,
     "metadata": {},
     "source": [
      "Plotting the shear stress/strain curve"
     ]
    },
    {
     "cell_type": "code",
     "collapsed": false,
     "input": [
      "def plot_shear(tensile_no,x):#x changes the beginning of the curve\n",
      "    plot_data=shear_data(tensile_no,x)\n",
      "    shear_stress=[]\n",
      "    shear_strain=[]\n",
      "    for exy,sxy in plot_data:\n",
      "        shear_strain.append(exy)\n",
      "        shear_stress.append(sxy)\n",
      "    ax.plot(shear_strain,shear_stress)\n",
      "    ax.grid()\n",
      "    ax.set_xlabel(\"True Strain\")\n",
      "    ax.set_ylabel(\"True Stress(MPa)\")\n",
      "    ax.hold(True)\n",
      "    "
     ],
     "language": "python",
     "metadata": {},
     "outputs": [],
     "prompt_number": 27
    },
    {
     "cell_type": "heading",
     "level": 3,
     "metadata": {},
     "source": [
      "Voce Law variables"
     ]
    },
    {
     "cell_type": "code",
     "collapsed": false,
     "input": [
      "theta0=6000000\n",
      "thetaIV=830\n",
      "alpha=4\n",
      "taus=400\n",
      "tensile_no=10\n",
      "x=210\n",
      "fig = plt.figure()\n",
      "ax = fig.add_subplot(111)\n",
      "plot_shear(tensile_no,x)\n",
      "plt.show()"
     ],
     "language": "python",
     "metadata": {},
     "outputs": [
      {
       "metadata": {},
       "output_type": "display_data",
       "png": "[encoded data removed]",
       "text": [
        "<matplotlib.figure.Figure at 0x10bd88690>"
       ]
      }
     ],
     "prompt_number": 28
    },
    {
     "cell_type": "heading",
     "level": 3,
     "metadata": {},
     "source": [
      "Plotting the Voce curves"
     ]
    },
    {
     "cell_type": "code",
     "collapsed": false,
     "input": [
      "def voce_curve_data(theta0,thetaIV,alpha,taus):\n",
      "    \n",
      "    plot_data=shear_data(tensile_no,x)\n",
      "    print 'Number of values plotted = ' +str(len(plot_data))\n",
      "    theta=[]\n",
      "    calculated_stress=[]\n",
      "    y=0\n",
      "    shear_stress=[]\n",
      "    shear_strain=[]\n",
      "    for exy,sxy in plot_data:\n",
      "        shear_strain.append(exy)\n",
      "        shear_stress.append(sxy)\n",
      "    \n",
      "    for exy,sxy in plot_data:#voce law to calculate the shear stress\n",
      "        y=y+1\n",
      "        if y<len(plot_data):\n",
      "            eq2=abs(1-(sxy/taus))#voce equation was broken into parts so that errors could be easily spotted\n",
      "            eq3=sign(1-(sxy/taus))\n",
      "            t=thetaIV+theta0*(eq2**alpha)*eq3\n",
      "            stress=sxy+t*(shear_strain[y]-exy)\n",
      "            calculated_stress.append(stress)\n",
      "    return calculated_stress\n",
      "   "
     ],
     "language": "python",
     "metadata": {},
     "outputs": [],
     "prompt_number": 29
    },
    {
     "cell_type": "heading",
     "level": 3,
     "metadata": {},
     "source": [
      "Plotting Voce Curve with actual experimental curve so that the variables can be altered as required"
     ]
    },
    {
     "cell_type": "code",
     "collapsed": false,
     "input": [
      "def voce_plot(tensile_no,x,theta0,thetaIV,alpha,taus):\n",
      "    calculated_stress=voce_curve_data(theta0,thetaIV,alpha,taus)\n",
      "    plot_data=shear_data(tensile_no,x)\n",
      "    shear_stress=[]\n",
      "    shear_strain=[]\n",
      "    for exy,sxy in plot_data:\n",
      "        shear_strain.append(exy)\n",
      "        shear_stress.append(sxy)\n",
      "    #plotting the Voce values\n",
      "    fig = plt.figure()\n",
      "    ax = fig.add_subplot(111)\n",
      "    ax = fig.add_subplot(111)\n",
      "    ax.plot(shear_strain[:-1],calculated_stress)\n",
      "    ax.grid()\n",
      "    ax.set_xlabel(\"Shear Strain\")\n",
      "    ax.set_ylabel(\"Calculated Stress(MPa)\")\n",
      "    plt.hold(True)\n",
      "    #plotting the experimental values (experimental true stress divided by the taylor factor of 2.5)\n",
      "    ax2 = ax.twinx()\n",
      "    ax2.plot(shear_strain,shear_stress)\n",
      "    ax2.set_xlabel(\"Shear Strain\")\n",
      "    ax2.set_ylabel(\"Shear Stress(MPa)\")\n",
      "    plt.hold(True)\n",
      "    print 'Tensile_Sample is Tensile '+str(tensile_no)"
     ],
     "language": "python",
     "metadata": {},
     "outputs": [],
     "prompt_number": 30
    },
    {
     "cell_type": "code",
     "collapsed": false,
     "input": [
      "voce_plot(tensile_no,x,theta0,thetaIV,alpha,taus)"
     ],
     "language": "python",
     "metadata": {},
     "outputs": [
      {
       "output_type": "stream",
       "stream": "stdout",
       "text": [
        "Number of values plotted = 70\n",
        "Tensile_Sample is Tensile 10"
       ]
      },
      {
       "output_type": "stream",
       "stream": "stdout",
       "text": [
        "\n"
       ]
      },
      {
       "metadata": {},
       "output_type": "display_data",
       "png": "[encoded data removed]",
       "text": [
        "<matplotlib.figure.Figure at 0x10bdc3350>"
       ]
      }
     ],
     "prompt_number": 31
    },
    {
     "cell_type": "heading",
     "level": 3,
     "metadata": {},
     "source": [
      "Plotting some of the single crystal curves using the FMT file from this data"
     ]
    },
    {
     "cell_type": "heading",
     "level": 4,
     "metadata": {},
     "source": [
      "Getting the data from gstressoutput for single crystal orientations"
     ]
    },
    {
     "cell_type": "code",
     "collapsed": false,
     "input": [
      "#by taking the stress values for each orientation\n",
      "maindir=os.getcwd()\n",
      "files=glob(maindir+'\\Stress_values_RS5_Sing_5_elements\\*.csv')"
     ],
     "language": "python",
     "metadata": {},
     "outputs": [],
     "prompt_number": 32
    },
    {
     "cell_type": "heading",
     "level": 4,
     "metadata": {},
     "source": [
      "Plotting the single crystal and experimental tensile curves"
     ]
    },
    {
     "cell_type": "code",
     "collapsed": false,
     "input": [
      "#creating arrays for all the values so that a plot can be created quickly for single crystal curves\n",
      "   \n",
      "with open(\"plot_data.csv\", \"w\") as fout:\n",
      "    fig = plt.figure()\n",
      "    ax = fig.add_subplot(111)\n",
      "    ax.grid()\n",
      "    for fileName in files[1:420:30]:\n",
      "        #elastic region is defined and the gradient is calculated\n",
      "        data = loadtxt(open( fileName, \"r\" ).readlines())\n",
      "        y=data[:]\n",
      "        x=linspace(0.0001,0.025,num=250)\n",
      "        ax.plot(x,y[:len(x)],'-r')      \n",
      "        ax.set_xlabel(\"Shear Strain\")\n",
      "        ax.set_ylabel(\"Calculated Stress(MPa)\")\n",
      "        plt.hold(True)\n",
      "#using the earlier functions to plot experimental tensile curves\n",
      "for tensile_no in [4,7,8,10,11]:\n",
      "    interpolate(tensile_no),true_stress_strain(tensile_no),plot_graph(tensile_no)\n",
      "plt.show()"
     ],
     "language": "python",
     "metadata": {},
     "outputs": [
      {
       "metadata": {},
       "output_type": "display_data",
       "png": "[encoded data removed]",
       "text": [
        "<matplotlib.figure.Figure at 0x10bd68a10>"
       ]
      }
     ],
     "prompt_number": 34
    },
    {
     "cell_type": "markdown",
     "metadata": {},
     "source": [
      "The experimental curves are in blue while the single crystal curves are in red. Generally there is an agreement except for the hardening which is much less in the experimental data. "
     ]
    }
   ],
   "metadata": {}
  }
 ]
}